{
 "cells": [
  {
   "cell_type": "code",
   "execution_count": 1,
   "metadata": {},
   "outputs": [],
   "source": [
    "from network import PPONetwork\n",
    "%load_ext autoreload\n",
    "%autoreload 2\n",
    "import numpy  as np\n",
    "import torch\n",
    "from torch import nn"
   ]
  },
  {
   "cell_type": "code",
   "execution_count": 7,
   "metadata": {},
   "outputs": [],
   "source": [
    "nnet = PPONetwork(2, 4)\n",
    "nnet = nnet.double()"
   ]
  },
  {
   "cell_type": "code",
   "execution_count": 12,
   "metadata": {},
   "outputs": [],
   "source": [
    "x = np.array([1,2,3,4], dtype=np.float)\n",
    "xs = np.random.randn(10,4)"
   ]
  },
  {
   "cell_type": "code",
   "execution_count": 11,
   "metadata": {},
   "outputs": [
    {
     "name": "stdout",
     "output_type": "stream",
     "text": [
      "Mean : tensor([ 0.2075, -0.2327], dtype=torch.float64, grad_fn=<ThAddBackward>) torch.Size([2])\n",
      "Std :  tensor([-0.6931], dtype=torch.float64, grad_fn=<ThAddBackward>) torch.Size([1])\n"
     ]
    },
    {
     "data": {
      "text/plain": [
       "(tensor([ 0.2075, -0.2327], dtype=torch.float64, grad_fn=<ThAddBackward>),\n",
       " tensor([0.5000], dtype=torch.float64, grad_fn=<ExpBackward>),\n",
       " tensor([-0.2355], dtype=torch.float64, grad_fn=<ThAddBackward>))"
      ]
     },
     "execution_count": 11,
     "metadata": {},
     "output_type": "execute_result"
    }
   ],
   "source": [
    "nnet(x)"
   ]
  },
  {
   "cell_type": "code",
   "execution_count": 49,
   "metadata": {},
   "outputs": [
    {
     "name": "stdout",
     "output_type": "stream",
     "text": [
      "Mean : tensor([[-0.0224,  0.1146],\n",
      "        [ 0.0917, -0.1129],\n",
      "        [ 0.1191, -0.0860],\n",
      "        [ 0.0513,  0.0951],\n",
      "        [ 0.0921,  0.0053],\n",
      "        [ 0.0679,  0.0641],\n",
      "        [ 0.0044, -0.1068],\n",
      "        [ 0.1797, -0.1173],\n",
      "        [ 0.0017,  0.1411],\n",
      "        [ 0.0538,  0.0494]], dtype=torch.float64, grad_fn=<ThAddmmBackward>) torch.Size([10, 2])\n",
      "Std :  tensor([-0.6931], dtype=torch.float64, grad_fn=<ThAddBackward>) torch.Size([1])\n"
     ]
    }
   ],
   "source": [
    "xs = torch.tensor(xs, dtype = torch.double)\n",
    "means, std, value  = nnet(xs)"
   ]
  },
  {
   "cell_type": "code",
   "execution_count": 56,
   "metadata": {},
   "outputs": [
    {
     "name": "stdout",
     "output_type": "stream",
     "text": [
      "tensor([ 0.4545,  0.3455, -0.8472, -1.2102], dtype=torch.float64)\n",
      "Mean : tensor([-0.0224,  0.1146], dtype=torch.float64) torch.Size([2])\n",
      "Std :  tensor([-0.6931], dtype=torch.float64) torch.Size([1])\n",
      "Exp Sttd :  tensor([0.5000], dtype=torch.float64) torch.Size([1])\n"
     ]
    },
    {
     "data": {
      "text/plain": [
       "([-0.5748924518900584, 0.0517523366561395],\n",
       " -1.45397586665041,\n",
       " -0.15552738692353435)"
      ]
     },
     "execution_count": 56,
     "metadata": {},
     "output_type": "execute_result"
    }
   ],
   "source": [
    "print(xs[0])\n",
    "nnet.get_action(xs[0])"
   ]
  },
  {
   "cell_type": "code",
   "execution_count": 55,
   "metadata": {},
   "outputs": [],
   "source": [
    "sample = torch.rand([10,2], dtype = torch.float)"
   ]
  },
  {
   "cell_type": "code",
   "execution_count": 34,
   "metadata": {},
   "outputs": [
    {
     "name": "stdout",
     "output_type": "stream",
     "text": [
      "tensor([[0.8355, 0.5562],\n",
      "        [0.7152, 0.3174],\n",
      "        [0.8029, 0.8213],\n",
      "        [0.2056, 0.9553],\n",
      "        [0.8065, 0.1839],\n",
      "        [0.0385, 0.4929],\n",
      "        [0.3693, 0.7652],\n",
      "        [0.7357, 0.1426],\n",
      "        [0.8311, 0.1436],\n",
      "        [0.1331, 0.6377]])\n"
     ]
    },
    {
     "data": {
      "text/plain": [
       "tensor([0.8355, 0.7152, 0.8029, 0.2056, 0.8065, 0.0385, 0.3693, 0.7357, 0.8311,\n",
       "        0.1331])"
      ]
     },
     "execution_count": 34,
     "metadata": {},
     "output_type": "execute_result"
    }
   ],
   "source": [
    "print(sample)\n",
    "sample[:,0]\n",
    "\n"
   ]
  },
  {
   "cell_type": "code",
   "execution_count": 36,
   "metadata": {},
   "outputs": [],
   "source": [
    "from torch.distributions.multivariate_normal import MultivariateNormal\n"
   ]
  },
  {
   "cell_type": "code",
   "execution_count": 43,
   "metadata": {},
   "outputs": [
    {
     "data": {
      "text/plain": [
       "tensor(-18.7749)"
      ]
     },
     "execution_count": 43,
     "metadata": {},
     "output_type": "execute_result"
    }
   ],
   "source": [
    "dist = MultivariateNormal(sample[:,0], 4*torch.eye(10))\n",
    "dist.sample()\n",
    "dist.log_prob(dist.sample())"
   ]
  },
  {
   "cell_type": "code",
   "execution_count": 39,
   "metadata": {},
   "outputs": [
    {
     "data": {
      "text/plain": [
       "tensor([[3., 0., 0.],\n",
       "        [0., 3., 0.],\n",
       "        [0., 0., 3.]])"
      ]
     },
     "execution_count": 39,
     "metadata": {},
     "output_type": "execute_result"
    }
   ],
   "source": [
    "torch.eye(3)*3"
   ]
  },
  {
   "cell_type": "code",
   "execution_count": 45,
   "metadata": {},
   "outputs": [],
   "source": [
    "dist = MultivariateNormal(sample, 2*torch.eye(2))"
   ]
  },
  {
   "cell_type": "code",
   "execution_count": 48,
   "metadata": {},
   "outputs": [
    {
     "data": {
      "text/plain": [
       "tensor([-4.9777, -5.5855, -2.9417, -4.2581, -2.9070, -2.6100, -3.6743, -2.9898,\n",
       "        -2.5913, -3.4028])"
      ]
     },
     "execution_count": 48,
     "metadata": {},
     "output_type": "execute_result"
    }
   ],
   "source": [
    "dist.log_prob(dist.sample())"
   ]
  },
  {
   "cell_type": "code",
   "execution_count": 59,
   "metadata": {},
   "outputs": [],
   "source": [
    "action = np.array([1,3,65,6])"
   ]
  },
  {
   "cell_type": "code",
   "execution_count": 60,
   "metadata": {},
   "outputs": [],
   "source": [
    "action = np.tanh(action)\n"
   ]
  },
  {
   "cell_type": "code",
   "execution_count": 62,
   "metadata": {},
   "outputs": [
    {
     "name": "stdout",
     "output_type": "stream",
     "text": [
      "[0.76159416 0.99505475 1.         0.99998771]\n"
     ]
    }
   ],
   "source": [
    "print(action)"
   ]
  },
  {
   "cell_type": "code",
   "execution_count": 63,
   "metadata": {},
   "outputs": [
    {
     "data": {
      "text/plain": [
       "array([ 76.1594156 ,  99.50547537, 100.        ,  99.99877117])"
      ]
     },
     "execution_count": 63,
     "metadata": {},
     "output_type": "execute_result"
    }
   ],
   "source": [
    "action*100\n",
    "\n",
    "\n"
   ]
  },
  {
   "cell_type": "code",
   "execution_count": 144,
   "metadata": {},
   "outputs": [],
   "source": [
    "from network import  PPONetwork2"
   ]
  },
  {
   "cell_type": "code",
   "execution_count": 145,
   "metadata": {},
   "outputs": [],
   "source": [
    "\n",
    "net = PPONetwork2(action_count = 2, in_size=4)\n",
    "net = net.double()"
   ]
  },
  {
   "cell_type": "code",
   "execution_count": 146,
   "metadata": {},
   "outputs": [],
   "source": [
    "data = torch.randn([10,4],dtype = torch.double)\n",
    "data2 = torch.randn([1,4],dtype = torch.double)\n",
    "data3 =  torch.randn([4],dtype = torch.double)"
   ]
  },
  {
   "cell_type": "code",
   "execution_count": 147,
   "metadata": {},
   "outputs": [
    {
     "data": {
      "text/plain": [
       "2"
      ]
     },
     "execution_count": 147,
     "metadata": {},
     "output_type": "execute_result"
    }
   ],
   "source": [
    "len(data.shape)"
   ]
  },
  {
   "cell_type": "code",
   "execution_count": 148,
   "metadata": {},
   "outputs": [
    {
     "name": "stdout",
     "output_type": "stream",
     "text": [
      "Mean : tensor([[0.1300, 0.0562],\n",
      "        [0.1574, 0.1561],\n",
      "        [0.0834, 0.0757],\n",
      "        [0.0238, 0.0720],\n",
      "        [0.1089, 0.0055],\n",
      "        [0.0512, 0.1085],\n",
      "        [0.1246, 0.0925],\n",
      "        [0.0757, 0.0441],\n",
      "        [0.0768, 0.0223],\n",
      "        [0.1399, 0.1802]], dtype=torch.float64, grad_fn=<SliceBackward>) torch.Size([10, 2])\n",
      "Std :  tensor([[ 0.2339,  0.1057],\n",
      "        [ 0.3744,  0.0188],\n",
      "        [ 0.1322,  0.0288],\n",
      "        [ 0.0923,  0.0673],\n",
      "        [ 0.4505,  0.1652],\n",
      "        [ 0.1135, -0.0308],\n",
      "        [ 0.1488,  0.0659],\n",
      "        [ 0.0754,  0.0432],\n",
      "        [ 0.0763,  0.0383],\n",
      "        [ 0.2392, -0.0453]], dtype=torch.float64, grad_fn=<SliceBackward>) torch.Size([10, 2])\n"
     ]
    },
    {
     "data": {
      "text/plain": [
       "torch.Size([10, 2])"
      ]
     },
     "execution_count": 148,
     "metadata": {},
     "output_type": "execute_result"
    }
   ],
   "source": [
    "mean, std,  value = net(data)\n",
    "mean.shape\n"
   ]
  },
  {
   "cell_type": "code",
   "execution_count": 159,
   "metadata": {},
   "outputs": [
    {
     "ename": "NameError",
     "evalue": "name 'data1' is not defined",
     "output_type": "error",
     "traceback": [
      "\u001b[0;31m---------------------------------------------------------------------------\u001b[0m",
      "\u001b[0;31mNameError\u001b[0m                                 Traceback (most recent call last)",
      "\u001b[0;32m<ipython-input-159-d5bc4089c453>\u001b[0m in \u001b[0;36m<module>\u001b[0;34m()\u001b[0m\n\u001b[0;32m----> 1\u001b[0;31m \u001b[0mprint\u001b[0m\u001b[0;34m(\u001b[0m\u001b[0;34m\"Value : \"\u001b[0m\u001b[0;34m,\u001b[0m\u001b[0mnet\u001b[0m\u001b[0;34m.\u001b[0m\u001b[0mget_action\u001b[0m\u001b[0;34m(\u001b[0m\u001b[0mdata1\u001b[0m\u001b[0;34m)\u001b[0m\u001b[0;34m)\u001b[0m\u001b[0;34m\u001b[0m\u001b[0;34m\u001b[0m\u001b[0m\n\u001b[0m",
      "\u001b[0;31mNameError\u001b[0m: name 'data1' is not defined"
     ]
    }
   ],
   "source": [
    "print(\"Value : \",net.get_action(data1))"
   ]
  },
  {
   "cell_type": "code",
   "execution_count": 52,
   "metadata": {},
   "outputs": [
    {
     "name": "stdout",
     "output_type": "stream",
     "text": [
      "Mean : tensor([[-0.0174, -0.0159]], dtype=torch.float64, grad_fn=<SliceBackward>) torch.Size([1, 2])\n",
      "Std :  tensor([[ 0.0888, -0.1516]], dtype=torch.float64, grad_fn=<SliceBackward>) torch.Size([1, 2])\n"
     ]
    },
    {
     "data": {
      "text/plain": [
       "torch.Size([1, 2])"
      ]
     },
     "execution_count": 52,
     "metadata": {},
     "output_type": "execute_result"
    }
   ],
   "source": [
    "mean, std,  value = net(data2)\n",
    "mean.shape"
   ]
  },
  {
   "cell_type": "code",
   "execution_count": 53,
   "metadata": {},
   "outputs": [
    {
     "name": "stdout",
     "output_type": "stream",
     "text": [
      "Mean : tensor([[0.0344, 0.0758]], dtype=torch.float64, grad_fn=<SliceBackward>) torch.Size([1, 2])\n",
      "Std :  tensor([[ 0.0952, -0.0544]], dtype=torch.float64, grad_fn=<SliceBackward>) torch.Size([1, 2])\n"
     ]
    },
    {
     "data": {
      "text/plain": [
       "torch.Size([1, 2])"
      ]
     },
     "execution_count": 53,
     "metadata": {},
     "output_type": "execute_result"
    }
   ],
   "source": [
    "mean, std,  value = net(data3)\n",
    "mean.shape"
   ]
  },
  {
   "cell_type": "code",
   "execution_count": null,
   "metadata": {},
   "outputs": [],
   "source": []
  },
  {
   "cell_type": "code",
   "execution_count": 68,
   "metadata": {},
   "outputs": [
    {
     "data": {
      "text/plain": [
       "[tensor([[1.0023, 0.0000],\n",
       "         [0.0000, 0.8570]], dtype=torch.float64, grad_fn=<ThMulBackward>),\n",
       " tensor([[0.9804, 0.0000],\n",
       "         [0.0000, 0.8959]], dtype=torch.float64, grad_fn=<ThMulBackward>),\n",
       " tensor([[1.1126, 0.0000],\n",
       "         [0.0000, 0.8953]], dtype=torch.float64, grad_fn=<ThMulBackward>),\n",
       " tensor([[1.1415, 0.0000],\n",
       "         [0.0000, 0.8344]], dtype=torch.float64, grad_fn=<ThMulBackward>),\n",
       " tensor([[1.0830, 0.0000],\n",
       "         [0.0000, 0.8659]], dtype=torch.float64, grad_fn=<ThMulBackward>),\n",
       " tensor([[1.2329, 0.0000],\n",
       "         [0.0000, 0.9183]], dtype=torch.float64, grad_fn=<ThMulBackward>),\n",
       " tensor([[1.0978, 0.0000],\n",
       "         [0.0000, 0.9476]], dtype=torch.float64, grad_fn=<ThMulBackward>),\n",
       " tensor([[1.0699, 0.0000],\n",
       "         [0.0000, 0.8541]], dtype=torch.float64, grad_fn=<ThMulBackward>),\n",
       " tensor([[1.1185, 0.0000],\n",
       "         [0.0000, 0.9307]], dtype=torch.float64, grad_fn=<ThMulBackward>),\n",
       " tensor([[1.0840, 0.0000],\n",
       "         [0.0000, 0.8663]], dtype=torch.float64, grad_fn=<ThMulBackward>)]"
      ]
     },
     "execution_count": 68,
     "metadata": {},
     "output_type": "execute_result"
    }
   ],
   "source": [
    "[s*torch.eye(2, dtype = torch.double) for s in std]\n"
   ]
  },
  {
   "cell_type": "code",
   "execution_count": 66,
   "metadata": {},
   "outputs": [
    {
     "ename": "RuntimeError",
     "evalue": "The size of tensor a (10) must match the size of tensor b (2) at non-singleton dimension 0",
     "output_type": "error",
     "traceback": [
      "\u001b[0;31m---------------------------------------------------------------------------\u001b[0m",
      "\u001b[0;31mRuntimeError\u001b[0m                              Traceback (most recent call last)",
      "\u001b[0;32m<ipython-input-66-e23ad209e921>\u001b[0m in \u001b[0;36m<module>\u001b[0;34m()\u001b[0m\n\u001b[0;32m----> 1\u001b[0;31m \u001b[0mstd\u001b[0m\u001b[0;34m*\u001b[0m\u001b[0mtorch\u001b[0m\u001b[0;34m.\u001b[0m\u001b[0meye\u001b[0m\u001b[0;34m(\u001b[0m\u001b[0;36m2\u001b[0m\u001b[0;34m)\u001b[0m\u001b[0;34m\u001b[0m\u001b[0;34m\u001b[0m\u001b[0m\n\u001b[0m",
      "\u001b[0;31mRuntimeError\u001b[0m: The size of tensor a (10) must match the size of tensor b (2) at non-singleton dimension 0"
     ]
    }
   ],
   "source": [
    "std*torch.eye(2)"
   ]
  },
  {
   "cell_type": "code",
   "execution_count": 75,
   "metadata": {},
   "outputs": [],
   "source": [
    "std = std.view([-1,1,2])"
   ]
  },
  {
   "cell_type": "code",
   "execution_count": 81,
   "metadata": {},
   "outputs": [
    {
     "ename": "TypeError",
     "evalue": "eye() received an invalid combination of arguments - got (int, dtyep=torch.dtype), but expected one of:\n * (int n, Tensor out, torch.dtype dtype, torch.layout layout, torch.device device, bool requires_grad)\n * (int n, int m, Tensor out, torch.dtype dtype, torch.layout layout, torch.device device, bool requires_grad)\n",
     "output_type": "error",
     "traceback": [
      "\u001b[0;31m---------------------------------------------------------------------------\u001b[0m",
      "\u001b[0;31mTypeError\u001b[0m                                 Traceback (most recent call last)",
      "\u001b[0;32m<ipython-input-81-68cefbd8e51d>\u001b[0m in \u001b[0;36m<module>\u001b[0;34m()\u001b[0m\n\u001b[0;32m----> 1\u001b[0;31m \u001b[0mtorch\u001b[0m\u001b[0;34m.\u001b[0m\u001b[0mmatmul\u001b[0m\u001b[0;34m(\u001b[0m\u001b[0mstd\u001b[0m\u001b[0;34m,\u001b[0m\u001b[0mtorch\u001b[0m\u001b[0;34m.\u001b[0m\u001b[0meye\u001b[0m\u001b[0;34m(\u001b[0m\u001b[0;36m2\u001b[0m\u001b[0;34m,\u001b[0m \u001b[0mdtyep\u001b[0m \u001b[0;34m=\u001b[0m \u001b[0mtorch\u001b[0m\u001b[0;34m.\u001b[0m\u001b[0mdouble\u001b[0m \u001b[0;34m)\u001b[0m\u001b[0;34m)\u001b[0m\u001b[0;34m\u001b[0m\u001b[0;34m\u001b[0m\u001b[0m\n\u001b[0m",
      "\u001b[0;31mTypeError\u001b[0m: eye() received an invalid combination of arguments - got (int, dtyep=torch.dtype), but expected one of:\n * (int n, Tensor out, torch.dtype dtype, torch.layout layout, torch.device device, bool requires_grad)\n * (int n, int m, Tensor out, torch.dtype dtype, torch.layout layout, torch.device device, bool requires_grad)\n"
     ]
    }
   ],
   "source": [
    "torch.matmul(std,torch.eye(2, dtyep = torch.double ))"
   ]
  },
  {
   "cell_type": "code",
   "execution_count": 119,
   "metadata": {},
   "outputs": [
    {
     "name": "stdout",
     "output_type": "stream",
     "text": [
      "tensor([[[1., 0.],\n",
      "         [0., 1.]],\n",
      "\n",
      "        [[1., 0.],\n",
      "         [0., 1.]],\n",
      "\n",
      "        [[1., 0.],\n",
      "         [0., 1.]],\n",
      "\n",
      "        [[1., 0.],\n",
      "         [0., 1.]],\n",
      "\n",
      "        [[1., 0.],\n",
      "         [0., 1.]],\n",
      "\n",
      "        [[1., 0.],\n",
      "         [0., 1.]],\n",
      "\n",
      "        [[1., 0.],\n",
      "         [0., 1.]],\n",
      "\n",
      "        [[1., 0.],\n",
      "         [0., 1.]],\n",
      "\n",
      "        [[1., 0.],\n",
      "         [0., 1.]],\n",
      "\n",
      "        [[1., 0.],\n",
      "         [0., 1.]]], dtype=torch.float64)\n",
      "torch.Size([10, 2, 2])\n"
     ]
    }
   ],
   "source": [
    "mean, std,  value = net(data)\n",
    "a = torch.eye(2, dtype = torch.double)\n",
    "a.unsqueeze_(0)\n",
    "a = a.expand(10, 2,2)\n",
    "# a = a.transpose(2, 0)\n",
    "print(a)\n",
    "print(a.shape)"
   ]
  },
  {
   "cell_type": "code",
   "execution_count": 135,
   "metadata": {},
   "outputs": [
    {
     "name": "stdout",
     "output_type": "stream",
     "text": [
      "torch.Size([10, 2])\n",
      "torch.Size([10, 1, 2])\n",
      "torch.Size([10, 2, 2])\n"
     ]
    }
   ],
   "source": [
    "print(std.shape)\n",
    "print(torch.unsqueeze(std, 1).shape)\n",
    "print(a.shape)"
   ]
  },
  {
   "cell_type": "code",
   "execution_count": 140,
   "metadata": {},
   "outputs": [
    {
     "name": "stdout",
     "output_type": "stream",
     "text": [
      "torch.Size([10, 2, 2])\n"
     ]
    }
   ],
   "source": [
    "print((torch.unsqueeze(std, 1)*a).shape)\n"
   ]
  },
  {
   "cell_type": "code",
   "execution_count": 128,
   "metadata": {},
   "outputs": [],
   "source": [
    "stds =  [s*a for s, a in  zip(std, a)]\n"
   ]
  },
  {
   "cell_type": "code",
   "execution_count": 132,
   "metadata": {},
   "outputs": [
    {
     "ename": "ValueError",
     "evalue": "only one element tensors can be converted to Python scalars",
     "output_type": "error",
     "traceback": [
      "\u001b[0;31m---------------------------------------------------------------------------\u001b[0m",
      "\u001b[0;31mValueError\u001b[0m                                Traceback (most recent call last)",
      "\u001b[0;32m<ipython-input-132-2d372e6e04cd>\u001b[0m in \u001b[0;36m<module>\u001b[0;34m()\u001b[0m\n\u001b[0;32m----> 1\u001b[0;31m \u001b[0mtorch\u001b[0m\u001b[0;34m.\u001b[0m\u001b[0mtensor\u001b[0m\u001b[0;34m(\u001b[0m\u001b[0;34m[\u001b[0m\u001b[0mstds\u001b[0m\u001b[0;34m]\u001b[0m\u001b[0;34m)\u001b[0m\u001b[0;34m\u001b[0m\u001b[0;34m\u001b[0m\u001b[0m\n\u001b[0m",
      "\u001b[0;31mValueError\u001b[0m: only one element tensors can be converted to Python scalars"
     ]
    }
   ],
   "source": [
    "\n"
   ]
  },
  {
   "cell_type": "code",
   "execution_count": null,
   "metadata": {},
   "outputs": [],
   "source": []
  }
 ],
 "metadata": {
  "kernelspec": {
   "display_name": "Python 3",
   "language": "python",
   "name": "python3"
  },
  "language_info": {
   "codemirror_mode": {
    "name": "ipython",
    "version": 3
   },
   "file_extension": ".py",
   "mimetype": "text/x-python",
   "name": "python",
   "nbconvert_exporter": "python",
   "pygments_lexer": "ipython3",
   "version": "3.6.8"
  }
 },
 "nbformat": 4,
 "nbformat_minor": 2
}
