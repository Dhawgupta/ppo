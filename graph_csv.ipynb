{
 "cells": [
  {
   "cell_type": "code",
   "execution_count": 2,
   "metadata": {},
   "outputs": [],
   "source": [
    "import csv\n",
    "import matplotlib.pyplot as plt\n",
    "import numpy as np\n",
    "import random\n"
   ]
  },
  {
   "cell_type": "code",
   "execution_count": 321,
   "metadata": {},
   "outputs": [],
   "source": [
    "\n",
    "PATH = './results/'\n",
    "def file_name2(i):\n",
    "    return './results/fetch_grad_norm_0_5_value_clip_0_5_{}.csv'.format(i)\n",
    "def file_name(i):\n",
    "    return 'results/Env_fetch_optimzer_adam_lr_0.0003_scaleaction_False_normalize_obs_False_vfc_1.0_gradclipvalue_None_value_clip_0.5_gradclipnorm_0.5_usess_True_2019-12-10 12:08:03.csv'\n",
    "filehopper = './results/Env_hopper_optimzer_adam_lr_0.0003_scaleaction_False_normalize_obs_False_vfc_1.0_gradclipvalue_None_value_clip_0.5_gradclipnorm_0.5_usess_True_2019-12-10 12:14:39.csv'"
   ]
  },
  {
   "cell_type": "code",
   "execution_count": 285,
   "metadata": {},
   "outputs": [],
   "source": [
    "def read(file_name, sliding = 2):\n",
    "    returns = []\n",
    "    with open(file_name) as fin:\n",
    "        fin = csv.reader(fin)\n",
    "        for r, line in enumerate(fin):\n",
    "            returns.append([])\n",
    "            line = list(map(float, line))\n",
    "            for i in range(0, len(line), sliding):\n",
    "                returns[r].append(np.mean(line[i:i+sliding]))\n",
    "    return np.array(returns).reshape([-1])"
   ]
  },
  {
   "cell_type": "code",
   "execution_count": 322,
   "metadata": {},
   "outputs": [],
   "source": [
    "ret = read(file_name(1), sliding = 20)\n",
    "ret1 = read(file_name2(1), sliding = 20)\n",
    "ret2 = read(file_name2(2), sliding = 20)\n",
    "ret3 = read(filehopper, sliding = 20)\n",
    "# ret2 = read(file_name(2), sliding = 60)"
   ]
  },
  {
   "cell_type": "code",
   "execution_count": 320,
   "metadata": {},
   "outputs": [
    {
     "data": {
      "text/plain": [
       "[<matplotlib.lines.Line2D at 0x12506b080>]"
      ]
     },
     "execution_count": 320,
     "metadata": {},
     "output_type": "execute_result"
    },
    {
     "data": {
      "image/png": "[encoded data removed]",
      "text/plain": [
       "<Figure size 432x288 with 1 Axes>"
      ]
     },
     "metadata": {},
     "output_type": "display_data"
    }
   ],
   "source": [
    "plt.plot(ret)\n",
    "plt.plot(ret2)\n",
    "plt.plot(ret1)\n"
   ]
  },
  {
   "cell_type": "code",
   "execution_count": 324,
   "metadata": {},
   "outputs": [
    {
     "data": {
      "text/plain": [
       "array([list([0.7374107167250072, 0.7407231481943201, 0.7111746331438488, 0.7775635100874269, 0.7134952020478097, 0.8233697492282585]),\n",
       "       list([0.7279145535794286, 0.7665104292381971, 0.6558297338890351, 0.7228500299691715, 1.0112194289466228]),\n",
       "       list([0.6989108815429228, 0.6784020437080185, 0.8547637646634217]),\n",
       "       list([0.799907839751605, 0.6953535759996992, 0.5593864511123744]),\n",
       "       list([0.8503952962467277, 0.9747331704555362]),\n",
       "       list([1.0580647001997743, 0.9060009922158457]),\n",
       "       list([1.2633203580810117, 1.2549932256030596]),\n",
       "       list([1.3302157259146659]),\n",
       "       list([1.6343484866372069, 1.3587161307588802]),\n",
       "       list([1.654531908060648, 1.8364029360355711]),\n",
       "       list([1.8491001253752006, 1.7789493481711691]),\n",
       "       list([1.997342091084485, 1.9087762828221777]),\n",
       "       list([1.9895051908146975, 1.925812127362179])], dtype=object)"
      ]
     },
     "execution_count": 324,
     "metadata": {},
     "output_type": "execute_result"
    }
   ],
   "source": [
    "ret3"
   ]
  },
  {
   "cell_type": "code",
   "execution_count": null,
   "metadata": {},
   "outputs": [],
   "source": []
  },
  {
   "cell_type": "code",
   "execution_count": null,
   "metadata": {},
   "outputs": [],
   "source": []
  }
 ],
 "metadata": {
  "kernelspec": {
   "display_name": "Python 3",
   "language": "python",
   "name": "python3"
  },
  "language_info": {
   "codemirror_mode": {
    "name": "ipython",
    "version": 3
   },
   "file_extension": ".py",
   "mimetype": "text/x-python",
   "name": "python",
   "nbconvert_exporter": "python",
   "pygments_lexer": "ipython3",
   "version": "3.6.8"
  }
 },
 "nbformat": 4,
 "nbformat_minor": 2
}
